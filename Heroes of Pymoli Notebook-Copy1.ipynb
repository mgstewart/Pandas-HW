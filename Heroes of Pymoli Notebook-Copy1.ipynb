{
 "cells": [
  {
   "cell_type": "code",
   "execution_count": 2,
   "metadata": {},
   "outputs": [
    {
     "data": {
      "text/html": [
       "<div>\n",
       "<style scoped>\n",
       "    .dataframe tbody tr th:only-of-type {\n",
       "        vertical-align: middle;\n",
       "    }\n",
       "\n",
       "    .dataframe tbody tr th {\n",
       "        vertical-align: top;\n",
       "    }\n",
       "\n",
       "    .dataframe thead th {\n",
       "        text-align: right;\n",
       "    }\n",
       "</style>\n",
       "<table border=\"1\" class=\"dataframe\">\n",
       "  <thead>\n",
       "    <tr style=\"text-align: right;\">\n",
       "      <th></th>\n",
       "      <th>Age</th>\n",
       "      <th>Gender</th>\n",
       "      <th>Item ID</th>\n",
       "      <th>Item Name</th>\n",
       "      <th>Price</th>\n",
       "      <th>SN</th>\n",
       "    </tr>\n",
       "  </thead>\n",
       "  <tbody>\n",
       "    <tr>\n",
       "      <th>0</th>\n",
       "      <td>38</td>\n",
       "      <td>Male</td>\n",
       "      <td>165</td>\n",
       "      <td>Bone Crushing Silver Skewer</td>\n",
       "      <td>3.37</td>\n",
       "      <td>Aelalis34</td>\n",
       "    </tr>\n",
       "    <tr>\n",
       "      <th>1</th>\n",
       "      <td>21</td>\n",
       "      <td>Male</td>\n",
       "      <td>119</td>\n",
       "      <td>Stormbringer, Dark Blade of Ending Misery</td>\n",
       "      <td>2.32</td>\n",
       "      <td>Eolo46</td>\n",
       "    </tr>\n",
       "    <tr>\n",
       "      <th>2</th>\n",
       "      <td>34</td>\n",
       "      <td>Male</td>\n",
       "      <td>174</td>\n",
       "      <td>Primitive Blade</td>\n",
       "      <td>2.46</td>\n",
       "      <td>Assastnya25</td>\n",
       "    </tr>\n",
       "    <tr>\n",
       "      <th>3</th>\n",
       "      <td>21</td>\n",
       "      <td>Male</td>\n",
       "      <td>92</td>\n",
       "      <td>Final Critic</td>\n",
       "      <td>1.36</td>\n",
       "      <td>Pheusrical25</td>\n",
       "    </tr>\n",
       "    <tr>\n",
       "      <th>4</th>\n",
       "      <td>23</td>\n",
       "      <td>Male</td>\n",
       "      <td>63</td>\n",
       "      <td>Stormfury Mace</td>\n",
       "      <td>1.27</td>\n",
       "      <td>Aela59</td>\n",
       "    </tr>\n",
       "  </tbody>\n",
       "</table>\n",
       "</div>"
      ],
      "text/plain": [
       "   Age Gender  Item ID                                  Item Name  Price  \\\n",
       "0   38   Male      165                Bone Crushing Silver Skewer   3.37   \n",
       "1   21   Male      119  Stormbringer, Dark Blade of Ending Misery   2.32   \n",
       "2   34   Male      174                            Primitive Blade   2.46   \n",
       "3   21   Male       92                               Final Critic   1.36   \n",
       "4   23   Male       63                             Stormfury Mace   1.27   \n",
       "\n",
       "             SN  \n",
       "0     Aelalis34  \n",
       "1        Eolo46  \n",
       "2   Assastnya25  \n",
       "3  Pheusrical25  \n",
       "4        Aela59  "
      ]
     },
     "execution_count": 2,
     "metadata": {},
     "output_type": "execute_result"
    }
   ],
   "source": [
    "#Declare and import libraries\n",
    "import pandas as pd\n",
    "import numpy as np\n",
    "#Read data from local JSON into initial dataframe HoPdf\n",
    "HoPdf = pd.read_json('purchase_data.json',encoding='UTF-8')\n",
    "HoPdf.head()"
   ]
  },
  {
   "cell_type": "code",
   "execution_count": 3,
   "metadata": {},
   "outputs": [
    {
     "data": {
      "text/plain": [
       "573"
      ]
     },
     "execution_count": 3,
     "metadata": {},
     "output_type": "execute_result"
    }
   ],
   "source": [
    "#Using value_counts on the SN series, count the total number of players (unique SN's) and store it in a variable\n",
    "total_players_series = HoPdf['SN'].value_counts()\n",
    "total_players_series\n",
    "total_players_int = len(total_players_series)\n",
    "total_players_int"
   ]
  },
  {
   "cell_type": "code",
   "execution_count": 4,
   "metadata": {},
   "outputs": [
    {
     "name": "stdout",
     "output_type": "stream",
     "text": [
      "Item Name\n",
      "Abyssal Shard                                3\n",
      "Aetherius, Boon of the Blessed               4\n",
      "Agatha                                       5\n",
      "Alpha                                        7\n",
      "Alpha, Oath of Zeal                          7\n",
      "Alpha, Reach of Ending Hope                  6\n",
      "Amnesia                                      6\n",
      "Apocalyptic Battlescythe                     4\n",
      "Arcane Gem                                  11\n",
      "Avenger                                      6\n",
      "Azurewrath                                   5\n",
      "Betrayal, Whisper of Grieving Widows        11\n",
      "Betrayer                                     3\n",
      "Blade of the Grave                           7\n",
      "Blazefury, Protector of Delusions            2\n",
      "Blazeguard, Reach of Eternity                6\n",
      "Blindscythe                                  5\n",
      "Blood Infused Guardian                       5\n",
      "Blood-Forged Skeletal Spine                  2\n",
      "Bloodlord's Fetish                           1\n",
      "Bone Crushing Silver Skewer                  3\n",
      "Bonecarvin Battle Axe                        8\n",
      "Brimstone                                    7\n",
      "Brutality Ivory Warmace                      4\n",
      "Celeste                                      6\n",
      "Celeste, Incarnation of the Corrupted        4\n",
      "Chaos, Ender of the End                      3\n",
      "Conqueror Adamantite Mace                    8\n",
      "Crucifer                                     8\n",
      "Crying Steel Sickle                          8\n",
      "                                            ..\n",
      "Thorn, Conqueror of the Corrupted            2\n",
      "Thorn, Satchel of Dark Souls                 6\n",
      "Thunderfury Scimitar                         3\n",
      "Toothpick                                    5\n",
      "Torchlight, Bond of Storms                   7\n",
      "Tranquility, Razor of Black Magic            2\n",
      "Trickster                                    9\n",
      "Twilight's Carver                            5\n",
      "Undead Crusader                              4\n",
      "Unending Tyranny                             3\n",
      "Unholy Wand                                  4\n",
      "Vengeance Cleaver                            3\n",
      "Venom Claymore                               6\n",
      "Verdict                                      1\n",
      "Victor Iron Spikes                           7\n",
      "Vindictive Glass Edge                        2\n",
      "War-Forged Gold Deflector                    3\n",
      "Warmonger, Gift of Suffering's End           6\n",
      "Warped Diamond Crusader                      3\n",
      "Warped Fetish                                2\n",
      "Warped Iron Scimitar                         2\n",
      "Whistling Mithril Warblade                   4\n",
      "Winter's Bite                                2\n",
      "Winterthorn, Defender of Shifting Worlds     4\n",
      "Woeful Adamantite Claymore                   9\n",
      "Wolf                                         5\n",
      "Wolf, Promise of the Moonwalker              7\n",
      "Worldbreaker                                 2\n",
      "Yearning Crusher                             2\n",
      "Yearning Mageblade                           4\n",
      "Name: Price, Length: 179, dtype: int64\n",
      "The number of unique items purchased was: 179\n"
     ]
    }
   ],
   "source": [
    "#Use groupby on primary DF then count to identify unique items in a series\n",
    "unique_weapons_groupbydf = HoPdf.groupby(['Item Name'])\n",
    "unique_weapon_series = unique_weapons_groupbydf['Price'].count()\n",
    "print(unique_weapon_series)\n",
    "unique_weapon_int = len(unique_weapon_series)\n",
    "print(\"The number of unique items purchased was: \" +str(unique_weapon_int))"
   ]
  },
  {
   "cell_type": "code",
   "execution_count": 5,
   "metadata": {},
   "outputs": [
    {
     "name": "stdout",
     "output_type": "stream",
     "text": [
      "The average item price is: $2.93\n"
     ]
    }
   ],
   "source": [
    "#Using the mean method on the Price series, store this value in a variable\n",
    "mean_item_price = HoPdf['Price'].mean()\n",
    "mean_item_price = round(mean_item_price,2)\n",
    "print(\"The average item price is: $\"+str(mean_item_price))"
   ]
  },
  {
   "cell_type": "code",
   "execution_count": 6,
   "metadata": {},
   "outputs": [
    {
     "data": {
      "text/plain": [
       "780"
      ]
     },
     "execution_count": 6,
     "metadata": {},
     "output_type": "execute_result"
    }
   ],
   "source": [
    "#Because the JSON is a record of in-game transactions over some period, the number of rows \n",
    "#in any category is the number of total transactions\n",
    "total_purchases = HoPdf['Price'].count()\n",
    "total_purchases"
   ]
  },
  {
   "cell_type": "code",
   "execution_count": 7,
   "metadata": {},
   "outputs": [
    {
     "data": {
      "text/plain": [
       "2286.33"
      ]
     },
     "execution_count": 7,
     "metadata": {},
     "output_type": "execute_result"
    }
   ],
   "source": [
    "#Total revenue can be used by extracting the Price series from the HoPdf then use the sum method\n",
    "price_series = HoPdf['Price']\n",
    "price_series.sum()"
   ]
  },
  {
   "cell_type": "code",
   "execution_count": 15,
   "metadata": {},
   "outputs": [
    {
     "data": {
      "text/plain": [
       "Male                     465\n",
       "Female                   100\n",
       "Other / Non-Disclosed      8\n",
       "Name: Gender, dtype: int64"
      ]
     },
     "execution_count": 15,
     "metadata": {},
     "output_type": "execute_result"
    }
   ],
   "source": [
    "#Create a new data frame from the original dataframe with just screennames and genders\n",
    "unique_sn_gender = HoPdf[['SN','Gender']]\n",
    "#Drop duplicated SN values, but keep the first instance\n",
    "unique_sn_gender = unique_sn_gender.drop_duplicates(subset=['SN'],keep='first')\n",
    "unique_sn_gender['Gender'].value_counts()"
   ]
  },
  {
   "cell_type": "code",
   "execution_count": 70,
   "metadata": {},
   "outputs": [
    {
     "data": {
      "text/html": [
       "<div>\n",
       "<style scoped>\n",
       "    .dataframe tbody tr th:only-of-type {\n",
       "        vertical-align: middle;\n",
       "    }\n",
       "\n",
       "    .dataframe tbody tr th {\n",
       "        vertical-align: top;\n",
       "    }\n",
       "\n",
       "    .dataframe thead th {\n",
       "        text-align: right;\n",
       "    }\n",
       "</style>\n",
       "<table border=\"1\" class=\"dataframe\">\n",
       "  <thead>\n",
       "    <tr style=\"text-align: right;\">\n",
       "      <th></th>\n",
       "      <th>Gender (%)</th>\n",
       "    </tr>\n",
       "  </thead>\n",
       "  <tbody>\n",
       "    <tr>\n",
       "      <th>Male</th>\n",
       "      <td>81.0</td>\n",
       "    </tr>\n",
       "    <tr>\n",
       "      <th>Female</th>\n",
       "      <td>17.0</td>\n",
       "    </tr>\n",
       "    <tr>\n",
       "      <th>Other / Non-Disclosed</th>\n",
       "      <td>1.0</td>\n",
       "    </tr>\n",
       "  </tbody>\n",
       "</table>\n",
       "</div>"
      ],
      "text/plain": [
       "                       Gender (%)\n",
       "Male                         81.0\n",
       "Female                       17.0\n",
       "Other / Non-Disclosed         1.0"
      ]
     },
     "execution_count": 70,
     "metadata": {},
     "output_type": "execute_result"
    }
   ],
   "source": [
    "#Use the total_players_int to convert counts to a rounded percentage and rename the column to show it is a percentage value\n",
    "percent_gender = pd.DataFrame(round((unique_sn_gender['Gender'].value_counts() / total_players_int)*100))\n",
    "percent_gender = percent_gender.rename(columns={'Gender':'Gender (%)'})\n",
    "percent_gender.head()"
   ]
  },
  {
   "cell_type": "code",
   "execution_count": 99,
   "metadata": {},
   "outputs": [
    {
     "data": {
      "text/html": [
       "<div>\n",
       "<style scoped>\n",
       "    .dataframe tbody tr th:only-of-type {\n",
       "        vertical-align: middle;\n",
       "    }\n",
       "\n",
       "    .dataframe tbody tr th {\n",
       "        vertical-align: top;\n",
       "    }\n",
       "\n",
       "    .dataframe thead th {\n",
       "        text-align: right;\n",
       "    }\n",
       "</style>\n",
       "<table border=\"1\" class=\"dataframe\">\n",
       "  <thead>\n",
       "    <tr style=\"text-align: right;\">\n",
       "      <th></th>\n",
       "      <th>Count of Purchases by Gender</th>\n",
       "      <th>Mean Price($)</th>\n",
       "      <th>Total Revenue($)</th>\n",
       "    </tr>\n",
       "    <tr>\n",
       "      <th>Gender</th>\n",
       "      <th></th>\n",
       "      <th></th>\n",
       "      <th></th>\n",
       "    </tr>\n",
       "  </thead>\n",
       "  <tbody>\n",
       "    <tr>\n",
       "      <th>Female</th>\n",
       "      <td>136</td>\n",
       "      <td>2.82</td>\n",
       "      <td>382.91</td>\n",
       "    </tr>\n",
       "    <tr>\n",
       "      <th>Male</th>\n",
       "      <td>633</td>\n",
       "      <td>2.95</td>\n",
       "      <td>1867.68</td>\n",
       "    </tr>\n",
       "    <tr>\n",
       "      <th>Other / Non-Disclosed</th>\n",
       "      <td>11</td>\n",
       "      <td>3.25</td>\n",
       "      <td>35.74</td>\n",
       "    </tr>\n",
       "  </tbody>\n",
       "</table>\n",
       "</div>"
      ],
      "text/plain": [
       "                       Count of Purchases by Gender  Mean Price($)  \\\n",
       "Gender                                                               \n",
       "Female                                          136           2.82   \n",
       "Male                                            633           2.95   \n",
       "Other / Non-Disclosed                            11           3.25   \n",
       "\n",
       "                       Total Revenue($)  \n",
       "Gender                                   \n",
       "Female                           382.91  \n",
       "Male                            1867.68  \n",
       "Other / Non-Disclosed             35.74  "
      ]
     },
     "execution_count": 99,
     "metadata": {},
     "output_type": "execute_result"
    }
   ],
   "source": [
    "#Create a new data frame using groupby on Gender and count price\n",
    "purchase_count_gender = HoPdf.groupby(['Gender'])['Price'].count()\n",
    "purchase_count_gender = pd.DataFrame(purchase_count_gender)\n",
    "purchase_count_gender = purchase_count_gender.join(round(HoPdf.groupby(['Gender'])['Price'].mean(),2),rsuffix='mean')\n",
    "purchase_count_gender = purchase_count_gender.join(round(HoPdf.groupby(['Gender'])['Price'].sum(),2),rsuffix='sum')\n",
    "purchase_count_gender = purchase_count_gender.rename(columns={'Price':'Count of Purchases by Gender','Pricemean':'Mean Price($)','Pricesum':'Total Revenue($)'})\n",
    "purchase_count_gender"
   ]
  },
  {
   "cell_type": "code",
   "execution_count": null,
   "metadata": {
    "collapsed": true
   },
   "outputs": [],
   "source": []
  },
  {
   "cell_type": "code",
   "execution_count": null,
   "metadata": {},
   "outputs": [],
   "source": []
  }
 ],
 "metadata": {
  "kernelspec": {
   "display_name": "Python [default]",
   "language": "python",
   "name": "python3"
  },
  "language_info": {
   "codemirror_mode": {
    "name": "ipython",
    "version": 3
   },
   "file_extension": ".py",
   "mimetype": "text/x-python",
   "name": "python",
   "nbconvert_exporter": "python",
   "pygments_lexer": "ipython3",
   "version": "3.6.5"
  }
 },
 "nbformat": 4,
 "nbformat_minor": 2
}
